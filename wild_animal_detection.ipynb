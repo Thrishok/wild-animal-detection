{
  "cells": [
    {
      "cell_type": "code",
      "execution_count": null,
      "metadata": {
        "colab": {
          "base_uri": "https://localhost:8080/"
        },
        "collapsed": true,
        "id": "Z0d1rFUle6yp",
        "outputId": "1cf5d2d8-4866-4902-e665-0c58ed2712f9"
      },
      "outputs": [],
      "source": [
        "!pip install ultralytics"
      ]
    },
    {
      "cell_type": "code",
      "execution_count": 10,
      "metadata": {
        "id": "XPItRi45euzH"
      },
      "outputs": [],
      "source": [
        "from ultralytics import YOLO\n",
        "from IPython.display import Image, display\n",
        "from IPython import display\n",
        "import warnings\n",
        "warnings.filterwarnings(\"ignore\")\n",
        "import os\n",
        "import cv2\n",
        "import numpy as np\n",
        "import time\n",
        "import playsound\n"
      ]
    },
    {
      "cell_type": "code",
      "execution_count": null,
      "metadata": {
        "colab": {
          "base_uri": "https://localhost:8080/"
        },
        "collapsed": true,
        "id": "5Q2JmmduhPF3",
        "outputId": "5899ae97-68a1-405b-ff97-85d16ad7adeb"
      },
      "outputs": [],
      "source": [
        "!pip install roboflow\n",
        "\n",
        "from roboflow import Roboflow\n",
        "rf = Roboflow(api_key=\"2x9tpcdcr4ycOit9EJLz\")\n",
        "project = rf.workspace(\"projects-febuc\").project(\"cats-yiifk\")\n",
        "version = project.version(7)\n",
        "dataset = version.download(\"yolov8\")\n",
        "\n"
      ]
    },
    {
      "cell_type": "code",
      "execution_count": null,
      "metadata": {
        "colab": {
          "base_uri": "https://localhost:8080/"
        },
        "id": "OZZPeYxneuzP",
        "outputId": "5323c139-3526-409c-9cce-fc38cb3402ea"
      },
      "outputs": [],
      "source": [
        "# Load the pre-trained YOLOv8 model (you can also use 'yolov8x.pt' for better accuracy)\n",
        "model = YOLO(\"C:/Users/Gowthamraj/Downloads/best (2).pt\")  # or yolov8m.pt, yolov8l.pt, yolov8x.pt for different sizes\n",
        "#results=model.train(data='/content/Cats-7/data.yaml',epochs=10,imgsz=640,save_period=1)"
      ]
    },
    {
      "cell_type": "code",
      "execution_count": null,
      "metadata": {
        "id": "dfcRbWLLeuzQ"
      },
      "outputs": [],
      "source": [
        "#model.to(\"cpu\")\n",
        "res= model.predict(source='0', show=True)"
      ]
    },
    {
      "cell_type": "code",
      "execution_count": 1,
      "metadata": {
        "id": "yfsy7UUeeuzR"
      },
      "outputs": [],
      "source": [
        "import winsound"
      ]
    },
    {
      "cell_type": "code",
      "execution_count": 13,
      "metadata": {
        "id": "I1mh5vFGeuzS",
        "outputId": "3a342ed4-0c77-4434-9ea8-8900430f63eb"
      },
      "outputs": [
        {
          "name": "stdout",
          "output_type": "stream",
          "text": [
            "Detected lion with confidence 0.83\n",
            "Detected lion with confidence 0.52\n",
            "Detected puma with confidence 0.50\n",
            "Detected tiger with confidence 0.98\n"
          ]
        }
      ],
      "source": [
        "from playsound import playsound as play_sound  # Renamed import to avoid conflict\n",
        "\n",
        "# Install required packages if missing:\n",
        "# pip install opencv-python playsound\n",
        "\n",
        "cap = cv2.VideoCapture(0)  # Use webcam\n",
        "N = 1  # Process every Nth frame\n",
        "frame_counter = 0\n",
        "last_alert_time = 0\n",
        "alert_interval = 2  # Seconds between allowed alerts\n",
        "min_confidence = 0.5  # Minimum detection confidence\n",
        "\n",
        "# List of animal classes to detect (update based on your model's classes)\n",
        "animal_classes = [\n",
        "    \"dog\", \"cat\", \"horse\", \"sheep\", \"cow\", \"elephant\", \"bear\", \"zebra\", \"giraffe\",\n",
        "    \"bird\", \"lion\", \"tiger\", \"puma\", \"leopard\", \"cheetah\", \"jaguar\", \"monkey\",\n",
        "    \"pig\", \"rabbit\", \"raccoon\", \"fox\", \"deer\", \"kangaroo\", \"panda\"\n",
        "]\n",
        "\n",
        "def play_alert_sound():\n",
        "    \"\"\"Play alert sound with error handling\"\"\"\n",
        "    try:\n",
        "        play_sound(r'C:/Users/Gowthamraj/Downloads/cyber-alarms-synthesized-116358.mp3')  # Use raw string for Windows paths\n",
        "    except Exception as e:\n",
        "        print(f\"Sound error: {str(e)}\")\n",
        "        # Fallback to system beep\n",
        "        if os.name == \"nt\":\n",
        "            import winsound\n",
        "            winsound.MessageBeep()\n",
        "        else:\n",
        "            print(\"\\a\")  # Fixed escape sequence for system beep\n",
        "\n",
        "while cap.isOpened():\n",
        "    ret, frame = cap.read()\n",
        "    if not ret:\n",
        "        break\n",
        "\n",
        "    frame_counter += 1\n",
        "\n",
        "    if frame_counter % N == 0:\n",
        "        # Perform detection (replace with your model)\n",
        "        results = model(frame, verbose=False)  # Ensure 'model' is properly defined\n",
        "        \n",
        "        animal_detected = False\n",
        "        current_time = time.time()\n",
        "\n",
        "        for result in results:\n",
        "            for box in result.boxes:\n",
        "                conf = float(box.conf[0])\n",
        "                cls_id = int(box.cls[0])\n",
        "                cls_name = model.names[cls_id].lower()\n",
        "\n",
        "                if cls_name in animal_classes and conf > min_confidence:\n",
        "                    print(f\"Detected {cls_name} with confidence {conf:.2f}\")\n",
        "                    animal_detected = True\n",
        "\n",
        "        # Trigger alert if any animal was detected\n",
        "        if animal_detected and (current_time - last_alert_time > alert_interval):\n",
        "            play_alert_sound()\n",
        "            last_alert_time = current_time\n",
        "\n",
        "    # Display frame\n",
        "    cv2.imshow('Animal Detection', frame)\n",
        "    if cv2.waitKey(1) & 0xFF == ord('q'):\n",
        "        break\n",
        "\n",
        "cap.release()\n",
        "cv2.destroyAllWindows()"
      ]
    }
  ],
  "metadata": {
    "accelerator": "GPU",
    "colab": {
      "gpuType": "T4",
      "provenance": []
    },
    "kernelspec": {
      "display_name": "Python 3",
      "name": "python3"
    },
    "language_info": {
      "codemirror_mode": {
        "name": "ipython",
        "version": 3
      },
      "file_extension": ".py",
      "mimetype": "text/x-python",
      "name": "python",
      "nbconvert_exporter": "python",
      "pygments_lexer": "ipython3",
      "version": "3.9.0"
    }
  },
  "nbformat": 4,
  "nbformat_minor": 0
}
